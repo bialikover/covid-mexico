{
  "nbformat": 4,
  "nbformat_minor": 0,
  "metadata": {
    "colab": {
      "name": "extract-sospechosos-covid-mex.ipynb",
      "provenance": [],
      "collapsed_sections": [],
      "toc_visible": true
    },
    "kernelspec": {
      "name": "python3",
      "display_name": "Python 3"
    }
  },
  "cells": [
    {
      "cell_type": "code",
      "metadata": {
        "id": "Fas5btkjb9SC",
        "colab_type": "code",
        "outputId": "98ebdc4b-c054-4b11-acaf-283d252bbcf4",
        "colab": {
          "base_uri": "https://localhost:8080/",
          "height": 136
        }
      },
      "source": [
        "#Install tabula python wrapper\n",
        "!pip install tabula-py"
      ],
      "execution_count": 1,
      "outputs": [
        {
          "output_type": "stream",
          "text": [
            "Requirement already satisfied: tabula-py in /usr/local/lib/python3.6/dist-packages (2.1.0)\n",
            "Requirement already satisfied: distro in /usr/local/lib/python3.6/dist-packages (from tabula-py) (1.4.0)\n",
            "Requirement already satisfied: pandas>=0.25.3 in /usr/local/lib/python3.6/dist-packages (from tabula-py) (0.25.3)\n",
            "Requirement already satisfied: numpy in /usr/local/lib/python3.6/dist-packages (from tabula-py) (1.18.2)\n",
            "Requirement already satisfied: python-dateutil>=2.6.1 in /usr/local/lib/python3.6/dist-packages (from pandas>=0.25.3->tabula-py) (2.8.1)\n",
            "Requirement already satisfied: pytz>=2017.2 in /usr/local/lib/python3.6/dist-packages (from pandas>=0.25.3->tabula-py) (2018.9)\n",
            "Requirement already satisfied: six>=1.5 in /usr/local/lib/python3.6/dist-packages (from python-dateutil>=2.6.1->pandas>=0.25.3->tabula-py) (1.12.0)\n"
          ],
          "name": "stdout"
        }
      ]
    },
    {
      "cell_type": "code",
      "metadata": {
        "id": "wJyU62pJc-LB",
        "colab_type": "code",
        "colab": {}
      },
      "source": [
        "from tabula import read_pdf\n",
        "import pandas as pd\n",
        "from datetime import date"
      ],
      "execution_count": 0,
      "outputs": []
    },
    {
      "cell_type": "code",
      "metadata": {
        "id": "9pMw3Y_u_lit",
        "colab_type": "code",
        "colab": {}
      },
      "source": [
        "# Use the url from www.gob.mx\n",
        "# TODO: check how their cms works, seems like every day they upload 4 pdfs... \n",
        "# check file/<number>/ and date at the end\n",
        "\n",
        "sospechosos =\"https://www.gob.mx/cms/uploads/attachment/file/542965/Tabla_casos_sospechosos_COVID-19_2020.03.23.pdf\""
      ],
      "execution_count": 0,
      "outputs": []
    },
    {
      "cell_type": "code",
      "metadata": {
        "id": "FMVBmy0_dICg",
        "colab_type": "code",
        "colab": {}
      },
      "source": [
        "# specify the area for page 1 since the column names are not being picked up by tabula\n",
        "# A primer on PDF coordinate system to pass values to area param\n",
        "# https://www.leadtools.com/help/leadtools/v19/dh/to/pdf-topics-pdfcoordinatesystem.html\n",
        "df = read_pdf(sospechosos, area=[100, 0, 792, 792], pages=\"1\") #92-99 depending on their format"
      ],
      "execution_count": 0,
      "outputs": []
    },
    {
      "cell_type": "code",
      "metadata": {
        "id": "tvrgV7jg4Stc",
        "colab_type": "code",
        "colab": {}
      },
      "source": [
        "# Get the rest of the pages in a second data frame \n",
        "# TODO: seems like is not reading the first row, maybe because it doesnt have the upper border\n",
        "df2 = read_pdf(sospechosos, pages=\"all\")"
      ],
      "execution_count": 0,
      "outputs": []
    },
    {
      "cell_type": "markdown",
      "metadata": {
        "id": "68EJhvwIobVm",
        "colab_type": "text"
      },
      "source": [
        "# Cleaning the first data frame"
      ]
    },
    {
      "cell_type": "code",
      "metadata": {
        "id": "H_Gqpv4bdQQA",
        "colab_type": "code",
        "outputId": "e573b860-eeb9-450d-c7ee-a06373fe354a",
        "colab": {
          "base_uri": "https://localhost:8080/",
          "height": 204
        }
      },
      "source": [
        "# Tabula outputs unformatted headers...\n",
        "df[0].head()"
      ],
      "execution_count": 6,
      "outputs": [
        {
          "output_type": "execute_result",
          "data": {
            "text/html": [
              "<div>\n",
              "<style scoped>\n",
              "    .dataframe tbody tr th:only-of-type {\n",
              "        vertical-align: middle;\n",
              "    }\n",
              "\n",
              "    .dataframe tbody tr th {\n",
              "        vertical-align: top;\n",
              "    }\n",
              "\n",
              "    .dataframe thead th {\n",
              "        text-align: right;\n",
              "    }\n",
              "</style>\n",
              "<table border=\"1\" class=\"dataframe\">\n",
              "  <thead>\n",
              "    <tr style=\"text-align: right;\">\n",
              "      <th></th>\n",
              "      <th>Unnamed: 0</th>\n",
              "      <th>Unnamed: 1</th>\n",
              "      <th>Unnamed: 2</th>\n",
              "      <th>Unnamed: 3</th>\n",
              "      <th>Unnamed: 4</th>\n",
              "      <th>Unnamed: 5</th>\n",
              "      <th>Unnamed: 6</th>\n",
              "      <th>Unnamed: 7</th>\n",
              "      <th>Unnamed: 8</th>\n",
              "      <th>Unnamed: 9</th>\n",
              "    </tr>\n",
              "  </thead>\n",
              "  <tbody>\n",
              "    <tr>\n",
              "      <th>0</th>\n",
              "      <td>1</td>\n",
              "      <td>SAN LUIS POTOSÍ</td>\n",
              "      <td>RIO VERDE</td>\n",
              "      <td>F</td>\n",
              "      <td>22</td>\n",
              "      <td>11/03/2020</td>\n",
              "      <td>Sospechoso</td>\n",
              "      <td>España</td>\n",
              "      <td>06/03/2020</td>\n",
              "      <td>NaN</td>\n",
              "    </tr>\n",
              "    <tr>\n",
              "      <th>1</th>\n",
              "      <td>2</td>\n",
              "      <td>PUEBLA</td>\n",
              "      <td>PUEBLA</td>\n",
              "      <td>M</td>\n",
              "      <td>49</td>\n",
              "      <td>15/03/2020</td>\n",
              "      <td>Sospechoso</td>\n",
              "      <td>Contacto</td>\n",
              "      <td>NA</td>\n",
              "      <td>NaN</td>\n",
              "    </tr>\n",
              "    <tr>\n",
              "      <th>2</th>\n",
              "      <td>3</td>\n",
              "      <td>SAN LUIS POTOSÍ</td>\n",
              "      <td>SAN LUIS POTOSI</td>\n",
              "      <td>M</td>\n",
              "      <td>25</td>\n",
              "      <td>13/03/2020</td>\n",
              "      <td>Sospechoso</td>\n",
              "      <td>Contacto</td>\n",
              "      <td>NA</td>\n",
              "      <td>NaN</td>\n",
              "    </tr>\n",
              "    <tr>\n",
              "      <th>3</th>\n",
              "      <td>4</td>\n",
              "      <td>GUERRERO</td>\n",
              "      <td>ZONA NORTE</td>\n",
              "      <td>M</td>\n",
              "      <td>29</td>\n",
              "      <td>15/03/2020</td>\n",
              "      <td>Sospechoso</td>\n",
              "      <td>Contacto</td>\n",
              "      <td>NA</td>\n",
              "      <td>NaN</td>\n",
              "    </tr>\n",
              "    <tr>\n",
              "      <th>4</th>\n",
              "      <td>5</td>\n",
              "      <td>HIDALGO</td>\n",
              "      <td>TULANCINGO</td>\n",
              "      <td>F</td>\n",
              "      <td>72</td>\n",
              "      <td>14/03/2020</td>\n",
              "      <td>Sospechoso</td>\n",
              "      <td>Estados Unidos</td>\n",
              "      <td>14/03/2020</td>\n",
              "      <td>NaN</td>\n",
              "    </tr>\n",
              "  </tbody>\n",
              "</table>\n",
              "</div>"
            ],
            "text/plain": [
              "   Unnamed: 0       Unnamed: 1  ...  Unnamed: 8 Unnamed: 9\n",
              "0           1  SAN LUIS POTOSÍ  ...  06/03/2020        NaN\n",
              "1           2           PUEBLA  ...          NA        NaN\n",
              "2           3  SAN LUIS POTOSÍ  ...          NA        NaN\n",
              "3           4         GUERRERO  ...          NA        NaN\n",
              "4           5          HIDALGO  ...  14/03/2020        NaN\n",
              "\n",
              "[5 rows x 10 columns]"
            ]
          },
          "metadata": {
            "tags": []
          },
          "execution_count": 6
        }
      ]
    },
    {
      "cell_type": "code",
      "metadata": {
        "id": "OvTP9gLUoTuz",
        "colab_type": "code",
        "colab": {}
      },
      "source": [
        "# drop the first row with non usable data\n",
        "df0 = df[0]\n",
        "\n",
        "# Rename the columns\n",
        "newcols = {\n",
        "    'Unnamed: 0': 'No de caso', \n",
        "    'Unnamed: 1': 'Estado', \n",
        "    'Unnamed: 2': 'Localidad',\n",
        "    'Unnamed: 3': 'Sexo',\n",
        "    'Unnamed: 4': 'Edad',\n",
        "    'Unnamed: 5': 'Fecha de Inicio de síntomas',\n",
        "    'Unnamed: 6': 'Identificación de COVID-19 por RTPCR en tiempo real',\n",
        "    'Unnamed: 7': 'Procedencia',\n",
        "    'Unnamed: 8': 'Fecha de llegada a México'\n",
        "}\n",
        "\n",
        "# Throws a warning in colab, unfortunatly I'm still not proficient with python...\n",
        "df0.rename(columns=newcols, inplace=True)"
      ],
      "execution_count": 0,
      "outputs": []
    },
    {
      "cell_type": "code",
      "metadata": {
        "id": "3dED62lKzPDw",
        "colab_type": "code",
        "outputId": "c6469725-0024-448a-ef5a-67f52e710aab",
        "colab": {
          "base_uri": "https://localhost:8080/",
          "height": 272
        }
      },
      "source": [
        "df0.head()"
      ],
      "execution_count": 8,
      "outputs": [
        {
          "output_type": "execute_result",
          "data": {
            "text/html": [
              "<div>\n",
              "<style scoped>\n",
              "    .dataframe tbody tr th:only-of-type {\n",
              "        vertical-align: middle;\n",
              "    }\n",
              "\n",
              "    .dataframe tbody tr th {\n",
              "        vertical-align: top;\n",
              "    }\n",
              "\n",
              "    .dataframe thead th {\n",
              "        text-align: right;\n",
              "    }\n",
              "</style>\n",
              "<table border=\"1\" class=\"dataframe\">\n",
              "  <thead>\n",
              "    <tr style=\"text-align: right;\">\n",
              "      <th></th>\n",
              "      <th>No de caso</th>\n",
              "      <th>Estado</th>\n",
              "      <th>Localidad</th>\n",
              "      <th>Sexo</th>\n",
              "      <th>Edad</th>\n",
              "      <th>Fecha de Inicio de síntomas</th>\n",
              "      <th>Identificación de COVID-19 por RTPCR en tiempo real</th>\n",
              "      <th>Procedencia</th>\n",
              "      <th>Fecha de llegada a México</th>\n",
              "      <th>Unnamed: 9</th>\n",
              "    </tr>\n",
              "  </thead>\n",
              "  <tbody>\n",
              "    <tr>\n",
              "      <th>0</th>\n",
              "      <td>1</td>\n",
              "      <td>SAN LUIS POTOSÍ</td>\n",
              "      <td>RIO VERDE</td>\n",
              "      <td>F</td>\n",
              "      <td>22</td>\n",
              "      <td>11/03/2020</td>\n",
              "      <td>Sospechoso</td>\n",
              "      <td>España</td>\n",
              "      <td>06/03/2020</td>\n",
              "      <td>NaN</td>\n",
              "    </tr>\n",
              "    <tr>\n",
              "      <th>1</th>\n",
              "      <td>2</td>\n",
              "      <td>PUEBLA</td>\n",
              "      <td>PUEBLA</td>\n",
              "      <td>M</td>\n",
              "      <td>49</td>\n",
              "      <td>15/03/2020</td>\n",
              "      <td>Sospechoso</td>\n",
              "      <td>Contacto</td>\n",
              "      <td>NA</td>\n",
              "      <td>NaN</td>\n",
              "    </tr>\n",
              "    <tr>\n",
              "      <th>2</th>\n",
              "      <td>3</td>\n",
              "      <td>SAN LUIS POTOSÍ</td>\n",
              "      <td>SAN LUIS POTOSI</td>\n",
              "      <td>M</td>\n",
              "      <td>25</td>\n",
              "      <td>13/03/2020</td>\n",
              "      <td>Sospechoso</td>\n",
              "      <td>Contacto</td>\n",
              "      <td>NA</td>\n",
              "      <td>NaN</td>\n",
              "    </tr>\n",
              "    <tr>\n",
              "      <th>3</th>\n",
              "      <td>4</td>\n",
              "      <td>GUERRERO</td>\n",
              "      <td>ZONA NORTE</td>\n",
              "      <td>M</td>\n",
              "      <td>29</td>\n",
              "      <td>15/03/2020</td>\n",
              "      <td>Sospechoso</td>\n",
              "      <td>Contacto</td>\n",
              "      <td>NA</td>\n",
              "      <td>NaN</td>\n",
              "    </tr>\n",
              "    <tr>\n",
              "      <th>4</th>\n",
              "      <td>5</td>\n",
              "      <td>HIDALGO</td>\n",
              "      <td>TULANCINGO</td>\n",
              "      <td>F</td>\n",
              "      <td>72</td>\n",
              "      <td>14/03/2020</td>\n",
              "      <td>Sospechoso</td>\n",
              "      <td>Estados Unidos</td>\n",
              "      <td>14/03/2020</td>\n",
              "      <td>NaN</td>\n",
              "    </tr>\n",
              "  </tbody>\n",
              "</table>\n",
              "</div>"
            ],
            "text/plain": [
              "   No de caso           Estado  ... Fecha de llegada a México Unnamed: 9\n",
              "0           1  SAN LUIS POTOSÍ  ...                06/03/2020        NaN\n",
              "1           2           PUEBLA  ...                        NA        NaN\n",
              "2           3  SAN LUIS POTOSÍ  ...                        NA        NaN\n",
              "3           4         GUERRERO  ...                        NA        NaN\n",
              "4           5          HIDALGO  ...                14/03/2020        NaN\n",
              "\n",
              "[5 rows x 10 columns]"
            ]
          },
          "metadata": {
            "tags": []
          },
          "execution_count": 8
        }
      ]
    },
    {
      "cell_type": "code",
      "metadata": {
        "id": "l18ToVHdxSU4",
        "colab_type": "code",
        "colab": {}
      },
      "source": [
        "# Remove the extra columns:\n",
        "columns = ['Unnamed: 9']\n",
        "df0 = df0.drop(labels=columns, axis=1)"
      ],
      "execution_count": 0,
      "outputs": []
    },
    {
      "cell_type": "code",
      "metadata": {
        "id": "sYZ95IK2pOoo",
        "colab_type": "code",
        "outputId": "172f638b-3c54-49dd-ecb6-03f14084dc1b",
        "colab": {
          "base_uri": "https://localhost:8080/",
          "height": 272
        }
      },
      "source": [
        "df0.head()"
      ],
      "execution_count": 11,
      "outputs": [
        {
          "output_type": "execute_result",
          "data": {
            "text/html": [
              "<div>\n",
              "<style scoped>\n",
              "    .dataframe tbody tr th:only-of-type {\n",
              "        vertical-align: middle;\n",
              "    }\n",
              "\n",
              "    .dataframe tbody tr th {\n",
              "        vertical-align: top;\n",
              "    }\n",
              "\n",
              "    .dataframe thead th {\n",
              "        text-align: right;\n",
              "    }\n",
              "</style>\n",
              "<table border=\"1\" class=\"dataframe\">\n",
              "  <thead>\n",
              "    <tr style=\"text-align: right;\">\n",
              "      <th></th>\n",
              "      <th>No de caso</th>\n",
              "      <th>Estado</th>\n",
              "      <th>Localidad</th>\n",
              "      <th>Sexo</th>\n",
              "      <th>Edad</th>\n",
              "      <th>Fecha de Inicio de síntomas</th>\n",
              "      <th>Identificación de COVID-19 por RTPCR en tiempo real</th>\n",
              "      <th>Procedencia</th>\n",
              "      <th>Fecha de llegada a México</th>\n",
              "    </tr>\n",
              "  </thead>\n",
              "  <tbody>\n",
              "    <tr>\n",
              "      <th>0</th>\n",
              "      <td>1</td>\n",
              "      <td>SAN LUIS POTOSÍ</td>\n",
              "      <td>RIO VERDE</td>\n",
              "      <td>F</td>\n",
              "      <td>22</td>\n",
              "      <td>11/03/2020</td>\n",
              "      <td>Sospechoso</td>\n",
              "      <td>España</td>\n",
              "      <td>06/03/2020</td>\n",
              "    </tr>\n",
              "    <tr>\n",
              "      <th>1</th>\n",
              "      <td>2</td>\n",
              "      <td>PUEBLA</td>\n",
              "      <td>PUEBLA</td>\n",
              "      <td>M</td>\n",
              "      <td>49</td>\n",
              "      <td>15/03/2020</td>\n",
              "      <td>Sospechoso</td>\n",
              "      <td>Contacto</td>\n",
              "      <td>NA</td>\n",
              "    </tr>\n",
              "    <tr>\n",
              "      <th>2</th>\n",
              "      <td>3</td>\n",
              "      <td>SAN LUIS POTOSÍ</td>\n",
              "      <td>SAN LUIS POTOSI</td>\n",
              "      <td>M</td>\n",
              "      <td>25</td>\n",
              "      <td>13/03/2020</td>\n",
              "      <td>Sospechoso</td>\n",
              "      <td>Contacto</td>\n",
              "      <td>NA</td>\n",
              "    </tr>\n",
              "    <tr>\n",
              "      <th>3</th>\n",
              "      <td>4</td>\n",
              "      <td>GUERRERO</td>\n",
              "      <td>ZONA NORTE</td>\n",
              "      <td>M</td>\n",
              "      <td>29</td>\n",
              "      <td>15/03/2020</td>\n",
              "      <td>Sospechoso</td>\n",
              "      <td>Contacto</td>\n",
              "      <td>NA</td>\n",
              "    </tr>\n",
              "    <tr>\n",
              "      <th>4</th>\n",
              "      <td>5</td>\n",
              "      <td>HIDALGO</td>\n",
              "      <td>TULANCINGO</td>\n",
              "      <td>F</td>\n",
              "      <td>72</td>\n",
              "      <td>14/03/2020</td>\n",
              "      <td>Sospechoso</td>\n",
              "      <td>Estados Unidos</td>\n",
              "      <td>14/03/2020</td>\n",
              "    </tr>\n",
              "  </tbody>\n",
              "</table>\n",
              "</div>"
            ],
            "text/plain": [
              "   No de caso           Estado  ...     Procedencia Fecha de llegada a México\n",
              "0           1  SAN LUIS POTOSÍ  ...          España                06/03/2020\n",
              "1           2           PUEBLA  ...        Contacto                        NA\n",
              "2           3  SAN LUIS POTOSÍ  ...        Contacto                        NA\n",
              "3           4         GUERRERO  ...        Contacto                        NA\n",
              "4           5          HIDALGO  ...  Estados Unidos                14/03/2020\n",
              "\n",
              "[5 rows x 9 columns]"
            ]
          },
          "metadata": {
            "tags": []
          },
          "execution_count": 11
        }
      ]
    },
    {
      "cell_type": "markdown",
      "metadata": {
        "id": "4ThC72MT7Amf",
        "colab_type": "text"
      },
      "source": [
        "## Concatenate with the other data frames"
      ]
    },
    {
      "cell_type": "code",
      "metadata": {
        "id": "EwMK_Ub4CgxM",
        "colab_type": "code",
        "outputId": "010fe5da-4dde-4f76-ee85-e41abd62a35d",
        "colab": {
          "base_uri": "https://localhost:8080/",
          "height": 34
        }
      },
      "source": [
        "# Data frame 2 should have all pages...\n",
        "len(df2)"
      ],
      "execution_count": 12,
      "outputs": [
        {
          "output_type": "execute_result",
          "data": {
            "text/plain": [
              "16"
            ]
          },
          "metadata": {
            "tags": []
          },
          "execution_count": 12
        }
      ]
    },
    {
      "cell_type": "code",
      "metadata": {
        "id": "kVcQYegu68gK",
        "colab_type": "code",
        "colab": {}
      },
      "source": [
        "## Remove page 1 since we already have it\n",
        "df2 = df2[1:]\n",
        "df2[0].head()"
      ],
      "execution_count": 0,
      "outputs": []
    },
    {
      "cell_type": "code",
      "metadata": {
        "id": "WMROw0uF832N",
        "colab_type": "code",
        "colab": {}
      },
      "source": [
        "# Add column headers to data frames\n",
        "cols = ['No de caso', \n",
        "    'Estado', \n",
        "    'Localidad', \n",
        "    'Sexo',\n",
        "    'Edad',\n",
        "    'Fecha de Inicio de síntomas',\n",
        "    'Identificación de COVID-19 por RTPCR en tiempo real',\n",
        "    'Procedencia',\n",
        "    'Fecha de llegada a México'\n",
        "]\n",
        "\n",
        "# Initialize list with the cleaned df 0 \n",
        "dataFrames = [df0]\n",
        "\n",
        "# Iterate through the dataframes in df2 and add the column headers\n",
        "for dfx in df2:\n",
        "    # Add header value as data\n",
        "    first = dfx.columns\n",
        "    first_row = dict( zip(cols, first))\n",
        "    data = pd.DataFrame([first_row])\n",
        "    dataframe = pd.concat([data, pd.DataFrame(dfx.values, columns=cols)])\n",
        "    # append the dataframes\n",
        "    dataFrames.append(dataframe)\n"
      ],
      "execution_count": 0,
      "outputs": []
    },
    {
      "cell_type": "code",
      "metadata": {
        "id": "-zPmguN1-UrC",
        "colab_type": "code",
        "colab": {}
      },
      "source": [
        "# Concatenate the cleaned data frames\n",
        "data = pd.concat(dataFrames,ignore_index=True)\n",
        "data"
      ],
      "execution_count": 0,
      "outputs": []
    },
    {
      "cell_type": "markdown",
      "metadata": {
        "id": "JgTnxlbp-UFZ",
        "colab_type": "text"
      },
      "source": [
        "## Export the data set:"
      ]
    },
    {
      "cell_type": "code",
      "metadata": {
        "id": "uiF6mTpJ8XBM",
        "colab_type": "code",
        "colab": {}
      },
      "source": [
        "today = date.today()\n",
        "d1 = today.strftime(\"%Y-%m-%d\")\n",
        "filename = \"sospechosos-\"+ d1+\".csv\"\n",
        "data.to_csv(filename)"
      ],
      "execution_count": 0,
      "outputs": []
    }
  ]
}