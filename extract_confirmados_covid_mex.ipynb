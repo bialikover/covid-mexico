{
  "nbformat": 4,
  "nbformat_minor": 0,
  "metadata": {
    "colab": {
      "name": "extract-confirmados-covid-mex.ipynb",
      "provenance": [],
      "collapsed_sections": [],
      "toc_visible": true
    },
    "kernelspec": {
      "name": "python3",
      "display_name": "Python 3"
    }
  },
  "cells": [
    {
      "cell_type": "code",
      "metadata": {
        "id": "Fas5btkjb9SC",
        "colab_type": "code",
        "colab": {}
      },
      "source": [
        "#Install tabula python wrapper\n",
        "!pip install tabula-py"
      ],
      "execution_count": 0,
      "outputs": []
    },
    {
      "cell_type": "code",
      "metadata": {
        "id": "wJyU62pJc-LB",
        "colab_type": "code",
        "colab": {}
      },
      "source": [
        "from tabula import read_pdf\n",
        "import pandas as pd\n",
        "from datetime import date"
      ],
      "execution_count": 0,
      "outputs": []
    },
    {
      "cell_type": "code",
      "metadata": {
        "id": "9pMw3Y_u_lit",
        "colab_type": "code",
        "colab": {}
      },
      "source": [
        "# Use the url from www.gob.mx\n",
        "# TODO: check how their cms works, seems like every day they upload 4 pdfs... \n",
        "# check file/<number>/ and date at the end\n",
        "\n",
        "positivos =\"https://www.gob.mx/cms/uploads/attachment/file/543465/Tabla_casos_positivos_COVID-19_resultado_InDRE_2020.03.25.pdf\""
      ],
      "execution_count": 0,
      "outputs": []
    },
    {
      "cell_type": "code",
      "metadata": {
        "id": "FMVBmy0_dICg",
        "colab_type": "code",
        "colab": {}
      },
      "source": [
        "# specify the area for page 1 since the column names are not being picked up by tabula\n",
        "# A primer on PDF coordinate system to pass values to area param\n",
        "# https://www.leadtools.com/help/leadtools/v19/dh/to/pdf-topics-pdfcoordinatesystem.html\n",
        "df = read_pdf(positivos, area=[131, 0, 792, 792], stream=True, pages=\"1\")"
      ],
      "execution_count": 0,
      "outputs": []
    },
    {
      "cell_type": "code",
      "metadata": {
        "id": "tvrgV7jg4Stc",
        "colab_type": "code",
        "colab": {}
      },
      "source": [
        "# Get the rest of the pages in a second data frame \n",
        "# TODO: seems like is not reading the first row, maybe because it doesnt have the upper border\n",
        "df2 = read_pdf(positivos, stream=True , pages=\"all\")"
      ],
      "execution_count": 0,
      "outputs": []
    },
    {
      "cell_type": "markdown",
      "metadata": {
        "id": "68EJhvwIobVm",
        "colab_type": "text"
      },
      "source": [
        "# Cleaning the first data frame"
      ]
    },
    {
      "cell_type": "code",
      "metadata": {
        "id": "H_Gqpv4bdQQA",
        "colab_type": "code",
        "colab": {}
      },
      "source": [
        "# Tabula outputs unformatted headers...\n",
        "df[0].head()"
      ],
      "execution_count": 0,
      "outputs": []
    },
    {
      "cell_type": "code",
      "metadata": {
        "id": "OvTP9gLUoTuz",
        "colab_type": "code",
        "colab": {}
      },
      "source": [
        "# drop the first row with non usable data\n",
        "df0 = df[0]\n",
        "\n",
        "# Rename the columns\n",
        "newcols = {\n",
        "    'Unnamed: 0': 'No de caso', \n",
        "    'Unnamed: 1': 'Estado', \n",
        "    'Unnamed: 2': 'Sexo',\n",
        "    'Unnamed: 3': 'Edad',\n",
        "    'Unnamed: 4': 'Fecha de Inicio de síntomas',\n",
        "    'real': 'Identificación de COVID-19 por RTPCR en tiempo real',\n",
        "    'Unnamed: 5': 'Procedencia',\n",
        "    'Unnamed: 6': 'Fecha de llegada a México'\n",
        "}\n",
        "\n",
        "# Throws a warning in colab, unfortunatly I'm still not proficient with python...\n",
        "df0.rename(columns=newcols, inplace=True)"
      ],
      "execution_count": 0,
      "outputs": []
    },
    {
      "cell_type": "code",
      "metadata": {
        "id": "3dED62lKzPDw",
        "colab_type": "code",
        "colab": {}
      },
      "source": [
        "df0.head()"
      ],
      "execution_count": 0,
      "outputs": []
    },
    {
      "cell_type": "code",
      "metadata": {
        "id": "l18ToVHdxSU4",
        "colab_type": "code",
        "colab": {}
      },
      "source": [
        "# Remove the extra columns:\n",
        "columns = ['Unnamed: 8', 'Unnamed: 9']\n",
        "df0 = df0.drop(labels=columns, axis=1)"
      ],
      "execution_count": 0,
      "outputs": []
    },
    {
      "cell_type": "code",
      "metadata": {
        "id": "sYZ95IK2pOoo",
        "colab_type": "code",
        "colab": {}
      },
      "source": [
        "df0.head()"
      ],
      "execution_count": 0,
      "outputs": []
    },
    {
      "cell_type": "markdown",
      "metadata": {
        "id": "4ThC72MT7Amf",
        "colab_type": "text"
      },
      "source": [
        "## Concatenate with the other data frames"
      ]
    },
    {
      "cell_type": "code",
      "metadata": {
        "id": "EwMK_Ub4CgxM",
        "colab_type": "code",
        "colab": {}
      },
      "source": [
        "# Data frame 2 should have all pages...\n",
        "len(df2)"
      ],
      "execution_count": 0,
      "outputs": []
    },
    {
      "cell_type": "code",
      "metadata": {
        "id": "kVcQYegu68gK",
        "colab_type": "code",
        "colab": {
          "base_uri": "https://localhost:8080/",
          "height": 204
        },
        "outputId": "c995efc7-352c-4791-8e02-7e4e51e07de7"
      },
      "source": [
        "## Remove page 1 since we already have it\n",
        "df2 = df2[1:]\n",
        "df2[0].head()"
      ],
      "execution_count": 33,
      "outputs": [
        {
          "output_type": "execute_result",
          "data": {
            "text/html": [
              "<div>\n",
              "<style scoped>\n",
              "    .dataframe tbody tr th:only-of-type {\n",
              "        vertical-align: middle;\n",
              "    }\n",
              "\n",
              "    .dataframe tbody tr th {\n",
              "        vertical-align: top;\n",
              "    }\n",
              "\n",
              "    .dataframe thead th {\n",
              "        text-align: right;\n",
              "    }\n",
              "</style>\n",
              "<table border=\"1\" class=\"dataframe\">\n",
              "  <thead>\n",
              "    <tr style=\"text-align: right;\">\n",
              "      <th></th>\n",
              "      <th>47</th>\n",
              "      <th>NUEVO LEÓN</th>\n",
              "      <th>M</th>\n",
              "      <th>27</th>\n",
              "      <th>11/03/2020</th>\n",
              "      <th>confirmado</th>\n",
              "      <th>España</th>\n",
              "      <th>13/03/2020</th>\n",
              "    </tr>\n",
              "  </thead>\n",
              "  <tbody>\n",
              "    <tr>\n",
              "      <th>0</th>\n",
              "      <td>48</td>\n",
              "      <td>NUEVO LEÓN</td>\n",
              "      <td>M</td>\n",
              "      <td>46</td>\n",
              "      <td>06/03/2020</td>\n",
              "      <td>confirmado</td>\n",
              "      <td>Estados Unidos</td>\n",
              "      <td>03/03/2020</td>\n",
              "    </tr>\n",
              "    <tr>\n",
              "      <th>1</th>\n",
              "      <td>49</td>\n",
              "      <td>GUERRERO</td>\n",
              "      <td>M</td>\n",
              "      <td>32</td>\n",
              "      <td>12/03/2020</td>\n",
              "      <td>confirmado</td>\n",
              "      <td>Contacto</td>\n",
              "      <td>NA</td>\n",
              "    </tr>\n",
              "    <tr>\n",
              "      <th>2</th>\n",
              "      <td>50</td>\n",
              "      <td>DURANGO</td>\n",
              "      <td>M</td>\n",
              "      <td>32</td>\n",
              "      <td>11/03/2020</td>\n",
              "      <td>confirmado</td>\n",
              "      <td>Alemania</td>\n",
              "      <td>11/03/2020</td>\n",
              "    </tr>\n",
              "    <tr>\n",
              "      <th>3</th>\n",
              "      <td>51</td>\n",
              "      <td>GUERRERO</td>\n",
              "      <td>F</td>\n",
              "      <td>22</td>\n",
              "      <td>09/03/2020</td>\n",
              "      <td>confirmado</td>\n",
              "      <td>España</td>\n",
              "      <td>12/03/2020</td>\n",
              "    </tr>\n",
              "    <tr>\n",
              "      <th>4</th>\n",
              "      <td>52</td>\n",
              "      <td>PUEBLA</td>\n",
              "      <td>F</td>\n",
              "      <td>27</td>\n",
              "      <td>05/03/2020</td>\n",
              "      <td>confirmado</td>\n",
              "      <td>España</td>\n",
              "      <td>09/03/2020</td>\n",
              "    </tr>\n",
              "  </tbody>\n",
              "</table>\n",
              "</div>"
            ],
            "text/plain": [
              "   47  NUEVO LEÓN  M  27  11/03/2020  confirmado          España  13/03/2020\n",
              "0  48  NUEVO LEÓN  M  46  06/03/2020  confirmado  Estados Unidos  03/03/2020\n",
              "1  49    GUERRERO  M  32  12/03/2020  confirmado        Contacto          NA\n",
              "2  50     DURANGO  M  32  11/03/2020  confirmado        Alemania  11/03/2020\n",
              "3  51    GUERRERO  F  22  09/03/2020  confirmado          España  12/03/2020\n",
              "4  52      PUEBLA  F  27  05/03/2020  confirmado          España  09/03/2020"
            ]
          },
          "metadata": {
            "tags": []
          },
          "execution_count": 33
        }
      ]
    },
    {
      "cell_type": "code",
      "metadata": {
        "id": "WMROw0uF832N",
        "colab_type": "code",
        "colab": {}
      },
      "source": [
        "# Add column headers to data frames\n",
        "cols = ['No de caso', \n",
        "    'Estado', \n",
        "    'Sexo',\n",
        "    'Edad',\n",
        "    'Fecha de Inicio de síntomas',\n",
        "    'Identificación de COVID-19 por RTPCR en tiempo real',\n",
        "    'Procedencia',\n",
        "    'Fecha de llegada a México'\n",
        "]\n",
        "\n",
        "# Initialize list with the cleaned df 0 \n",
        "dataFrames = [df0]\n",
        "\n",
        "# Iterate through the dataframes in df2 and add the column headers\n",
        "for dfx in df2:\n",
        "    # Add header value as data\n",
        "    first = dfx.columns\n",
        "    first_row = dict( zip(cols, first))\n",
        "    data = pd.DataFrame([first_row])\n",
        "    dataframe = pd.concat([data, pd.DataFrame(dfx.values, columns=cols)])\n",
        "    # append the dataframes\n",
        "    dataFrames.append(dataframe)\n"
      ],
      "execution_count": 0,
      "outputs": []
    },
    {
      "cell_type": "code",
      "metadata": {
        "id": "-zPmguN1-UrC",
        "colab_type": "code",
        "colab": {}
      },
      "source": [
        "# Concatenate the cleaned data frames\n",
        "data = pd.concat(dataFrames,ignore_index=True)\n",
        "data"
      ],
      "execution_count": 0,
      "outputs": []
    },
    {
      "cell_type": "markdown",
      "metadata": {
        "id": "JgTnxlbp-UFZ",
        "colab_type": "text"
      },
      "source": [
        "## Export the data set:"
      ]
    },
    {
      "cell_type": "code",
      "metadata": {
        "id": "uiF6mTpJ8XBM",
        "colab_type": "code",
        "colab": {}
      },
      "source": [
        "today = date.today()\n",
        "d1 = today.strftime(\"%Y-%m-%d\")\n",
        "filename = \"confirmados-\"+ d1+\".csv\"\n",
        "data.to_csv(filename)"
      ],
      "execution_count": 0,
      "outputs": []
    }
  ]
}